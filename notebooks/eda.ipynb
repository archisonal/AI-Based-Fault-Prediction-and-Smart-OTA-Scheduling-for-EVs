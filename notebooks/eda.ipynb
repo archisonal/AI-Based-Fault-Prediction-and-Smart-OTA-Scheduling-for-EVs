{
 "cells": [
  {
   "cell_type": "code",
   "execution_count": 42,
   "id": "e85b6807",
   "metadata": {},
   "outputs": [],
   "source": [
    "import pandas as pd \n",
    "import numpy as np \n",
    "import matplotlib.pyplot as plt \n",
    "import seaborn as sns \n",
    "from sklearn.model_selection import train_test_split\n",
    "from sklearn.preprocessing import StandardScaler\n",
    "from sklearn.utils import resample"
   ]
  },
  {
   "cell_type": "code",
   "execution_count": 2,
   "id": "61cd515b",
   "metadata": {},
   "outputs": [],
   "source": [
    "sns.set(style=\"whitegrid\")"
   ]
  },
  {
   "cell_type": "code",
   "execution_count": 17,
   "id": "76cb38db",
   "metadata": {},
   "outputs": [
    {
     "data": {
      "text/plain": [
       "<bound method NDFrame.head of           temp     voltage    current       mileage  fault_code\n",
       "0    44.305621  412.333629  37.368022  10024.195410           0\n",
       "1    36.811620  415.940710  67.630353  15418.300693           0\n",
       "2    54.560886  369.003427  46.886782   9061.450307           0\n",
       "3    40.273808  394.349838  45.686824   8029.884158           0\n",
       "4    41.962655  408.509981  39.161915   9074.754832           0\n",
       "..         ...         ...        ...           ...         ...\n",
       "995  37.098805  414.360683  23.353166  14048.208516           0\n",
       "996  35.042032  390.111042  77.508473  17819.547544           0\n",
       "997  41.521882  380.921547  70.234925  13742.467237           0\n",
       "998  45.966775  368.905699  50.199260  15312.311404           0\n",
       "999  49.441620  381.752089  46.053124  10919.624897           0\n",
       "\n",
       "[1000 rows x 5 columns]>"
      ]
     },
     "execution_count": 17,
     "metadata": {},
     "output_type": "execute_result"
    }
   ],
   "source": [
    "# LOAD FAKE DATA\n",
    "\n",
    "df = pd.read_csv(\"../data/synthetic-data.csv\")\n",
    "df.head"
   ]
  },
  {
   "cell_type": "code",
   "execution_count": 18,
   "id": "ec105cde",
   "metadata": {},
   "outputs": [
    {
     "data": {
      "text/html": [
       "<div>\n",
       "<style scoped>\n",
       "    .dataframe tbody tr th:only-of-type {\n",
       "        vertical-align: middle;\n",
       "    }\n",
       "\n",
       "    .dataframe tbody tr th {\n",
       "        vertical-align: top;\n",
       "    }\n",
       "\n",
       "    .dataframe thead th {\n",
       "        text-align: right;\n",
       "    }\n",
       "</style>\n",
       "<table border=\"1\" class=\"dataframe\">\n",
       "  <thead>\n",
       "    <tr style=\"text-align: right;\">\n",
       "      <th></th>\n",
       "      <th>temp</th>\n",
       "      <th>voltage</th>\n",
       "      <th>current</th>\n",
       "      <th>mileage</th>\n",
       "      <th>fault_code</th>\n",
       "    </tr>\n",
       "  </thead>\n",
       "  <tbody>\n",
       "    <tr>\n",
       "      <th>count</th>\n",
       "      <td>1000.000000</td>\n",
       "      <td>1000.000000</td>\n",
       "      <td>1000.000000</td>\n",
       "      <td>1000.000000</td>\n",
       "      <td>1000.000000</td>\n",
       "    </tr>\n",
       "    <tr>\n",
       "      <th>mean</th>\n",
       "      <td>39.903144</td>\n",
       "      <td>400.748271</td>\n",
       "      <td>49.865756</td>\n",
       "      <td>11927.156880</td>\n",
       "      <td>0.086000</td>\n",
       "    </tr>\n",
       "    <tr>\n",
       "      <th>std</th>\n",
       "      <td>5.007393</td>\n",
       "      <td>20.183537</td>\n",
       "      <td>10.021333</td>\n",
       "      <td>3003.702401</td>\n",
       "      <td>0.280504</td>\n",
       "    </tr>\n",
       "    <tr>\n",
       "      <th>min</th>\n",
       "      <td>24.191039</td>\n",
       "      <td>337.097212</td>\n",
       "      <td>23.353166</td>\n",
       "      <td>2140.054485</td>\n",
       "      <td>0.000000</td>\n",
       "    </tr>\n",
       "    <tr>\n",
       "      <th>25%</th>\n",
       "      <td>36.755584</td>\n",
       "      <td>387.436288</td>\n",
       "      <td>42.985251</td>\n",
       "      <td>9876.024669</td>\n",
       "      <td>0.000000</td>\n",
       "    </tr>\n",
       "    <tr>\n",
       "      <th>50%</th>\n",
       "      <td>39.933696</td>\n",
       "      <td>400.017353</td>\n",
       "      <td>49.191979</td>\n",
       "      <td>11864.188704</td>\n",
       "      <td>0.000000</td>\n",
       "    </tr>\n",
       "    <tr>\n",
       "      <th>75%</th>\n",
       "      <td>43.141133</td>\n",
       "      <td>413.335926</td>\n",
       "      <td>56.668135</td>\n",
       "      <td>13973.067747</td>\n",
       "      <td>0.000000</td>\n",
       "    </tr>\n",
       "    <tr>\n",
       "      <th>max</th>\n",
       "      <td>55.725285</td>\n",
       "      <td>468.784949</td>\n",
       "      <td>83.784581</td>\n",
       "      <td>22332.691137</td>\n",
       "      <td>1.000000</td>\n",
       "    </tr>\n",
       "  </tbody>\n",
       "</table>\n",
       "</div>"
      ],
      "text/plain": [
       "              temp      voltage      current       mileage   fault_code\n",
       "count  1000.000000  1000.000000  1000.000000   1000.000000  1000.000000\n",
       "mean     39.903144   400.748271    49.865756  11927.156880     0.086000\n",
       "std       5.007393    20.183537    10.021333   3003.702401     0.280504\n",
       "min      24.191039   337.097212    23.353166   2140.054485     0.000000\n",
       "25%      36.755584   387.436288    42.985251   9876.024669     0.000000\n",
       "50%      39.933696   400.017353    49.191979  11864.188704     0.000000\n",
       "75%      43.141133   413.335926    56.668135  13973.067747     0.000000\n",
       "max      55.725285   468.784949    83.784581  22332.691137     1.000000"
      ]
     },
     "execution_count": 18,
     "metadata": {},
     "output_type": "execute_result"
    }
   ],
   "source": [
    "# DATASET SUMMARY\n",
    "\n",
    "df.describe()"
   ]
  },
  {
   "cell_type": "code",
   "execution_count": 41,
   "id": "2c21c178",
   "metadata": {},
   "outputs": [],
   "source": [
    "# CHECKING FOR NAs\n",
    "\n",
    "df = df.dropna()"
   ]
  },
  {
   "cell_type": "code",
   "execution_count": 43,
   "id": "cf545f8b",
   "metadata": {},
   "outputs": [],
   "source": [
    "X = df.drop('fault_code', axis=1)\n",
    "y = df['fault_code']\n",
    "\n",
    "X_train, X_test, y_train, y_test = train_test_split(X, y, test_size=0.2, random_state=42, stratify=y)"
   ]
  },
  {
   "cell_type": "code",
   "execution_count": null,
   "id": "1ec0543c",
   "metadata": {},
   "outputs": [],
   "source": [
    "scaler = StandardScaler()\n",
    "X_train_scaled = scaler.fit_transform(X_train)\n",
    "X_test_scaled = scaler.transform(X_test)\n"
   ]
  },
  {
   "cell_type": "code",
   "execution_count": 45,
   "id": "a0eae24a",
   "metadata": {},
   "outputs": [],
   "source": [
    "X_train_df = pd.DataFrame(X_train_scaled, columns=X.columns)\n",
    "y_train_df = pd.Series(y_train.values, name='fault_code')"
   ]
  },
  {
   "cell_type": "code",
   "execution_count": 46,
   "id": "5344598b",
   "metadata": {},
   "outputs": [],
   "source": [
    "train_data = pd.concat([X_train_df, y_train_df], axis=1)"
   ]
  },
  {
   "cell_type": "code",
   "execution_count": 47,
   "id": "512de194",
   "metadata": {},
   "outputs": [],
   "source": [
    "majority = train_data[train_data.fault_code == 0]\n",
    "minority = train_data[train_data.fault_code == 1]"
   ]
  },
  {
   "cell_type": "code",
   "execution_count": 48,
   "id": "d72240ad",
   "metadata": {},
   "outputs": [],
   "source": [
    "minority_upsampled = resample(minority,\n",
    "                              replace=True,\n",
    "                              n_samples=len(majority),\n",
    "                              random_state=42\n",
    "                            )\n",
    "\n",
    "upsampled = pd.concat([majority, minority_upsampled])\n",
    "upsampled = upsampled.sample(frac=1, random_state=42)"
   ]
  },
  {
   "cell_type": "code",
   "execution_count": 49,
   "id": "7827d61d",
   "metadata": {},
   "outputs": [],
   "source": [
    "X_train_balanced = upsampled.drop('fault_code', axis=1)\n",
    "y_train_balanced = upsampled['fault_code']"
   ]
  },
  {
   "cell_type": "code",
   "execution_count": 50,
   "id": "aec14103",
   "metadata": {},
   "outputs": [
    {
     "name": "stdout",
     "output_type": "stream",
     "text": [
      "fault_code\n",
      "1    731\n",
      "0    731\n",
      "Name: count, dtype: int64\n"
     ]
    }
   ],
   "source": [
    "print(y_train_balanced.value_counts())\n"
   ]
  },
  {
   "cell_type": "code",
   "execution_count": 51,
   "id": "c288bc38",
   "metadata": {},
   "outputs": [
    {
     "data": {
      "image/png": "[encoded data removed]",
      "text/plain": [
       "<Figure size 800x600 with 2 Axes>"
      ]
     },
     "metadata": {},
     "output_type": "display_data"
    }
   ],
   "source": [
    "# PLOTTING A HEATMAP\n",
    "\n",
    "plt.figure(figsize=(8,6))\n",
    "sns.heatmap(df.corr(), annot=True, cmap=\"rocket\")\n",
    "plt.title(\"Correlation Matrix\")\n",
    "plt.show()"
   ]
  },
  {
   "cell_type": "code",
   "execution_count": 52,
   "id": "d43208cc",
   "metadata": {},
   "outputs": [],
   "source": [
    "from sklearn.linear_model import LogisticRegression\n",
    "from sklearn.ensemble import RandomForestClassifier\n",
    "from xgboost import XGBClassifier\n",
    "from sklearn.svm import SVC\n",
    "from sklearn.neighbors import KNeighborsClassifier\n",
    "from sklearn.metrics import classification_report, accuracy_score, confusion_matrix"
   ]
  },
  {
   "cell_type": "code",
   "execution_count": 54,
   "id": "a1603944",
   "metadata": {},
   "outputs": [],
   "source": [
    "models = {\n",
    "    'Logistic Regression' : LogisticRegression(max_iter=1000, random_state=42),\n",
    "    'Random Forest' : RandomForestClassifier(n_estimators=1000, random_state=42),\n",
    "    'XG Boost' : XGBClassifier(use_label_encoder=False, eval_metric='logloss', random_state=42),\n",
    "    'Support Vector' : SVC(kernel='rbf', probability=True, random_state=42),\n",
    "    'KNN' : KNeighborsClassifier(n_neighbors=5)\n",
    "}\n",
    "\n",
    "result = {}"
   ]
  },
  {
   "cell_type": "code",
   "execution_count": 55,
   "id": "0c0c92e0",
   "metadata": {},
   "outputs": [
    {
     "name": "stdout",
     "output_type": "stream",
     "text": [
      "\n",
      "Training: Logistic Regression\n",
      "Accuracy: 0.4500\n",
      "Confusion Matrix:\n",
      "[[85 98]\n",
      " [12  5]]\n",
      "Classification Report:\n",
      "              precision    recall  f1-score   support\n",
      "\n",
      "           0       0.88      0.46      0.61       183\n",
      "           1       0.05      0.29      0.08        17\n",
      "\n",
      "    accuracy                           0.45       200\n",
      "   macro avg       0.46      0.38      0.35       200\n",
      "weighted avg       0.81      0.45      0.56       200\n",
      "\n",
      "\n",
      "Training: Random Forest\n"
     ]
    },
    {
     "name": "stderr",
     "output_type": "stream",
     "text": [
      "c:\\Users\\sonal\\Desktop\\TATA INNOVENT\\env\\lib\\site-packages\\sklearn\\utils\\validation.py:2749: UserWarning: X does not have valid feature names, but LogisticRegression was fitted with feature names\n",
      "  message = \"The feature names should match those that were passed during fit.\\n\"\n",
      "c:\\Users\\sonal\\Desktop\\TATA INNOVENT\\env\\lib\\site-packages\\sklearn\\utils\\validation.py:2749: UserWarning: X does not have valid feature names, but RandomForestClassifier was fitted with feature names\n",
      "  message = \"The feature names should match those that were passed during fit.\\n\"\n"
     ]
    },
    {
     "name": "stdout",
     "output_type": "stream",
     "text": [
      "Accuracy: 0.8900\n",
      "Confusion Matrix:\n",
      "[[177   6]\n",
      " [ 16   1]]\n",
      "Classification Report:\n",
      "              precision    recall  f1-score   support\n",
      "\n",
      "           0       0.92      0.97      0.94       183\n",
      "           1       0.14      0.06      0.08        17\n",
      "\n",
      "    accuracy                           0.89       200\n",
      "   macro avg       0.53      0.51      0.51       200\n",
      "weighted avg       0.85      0.89      0.87       200\n",
      "\n",
      "\n",
      "Training: XG Boost\n",
      "Accuracy: 0.8800\n",
      "Confusion Matrix:\n",
      "[[174   9]\n",
      " [ 15   2]]\n",
      "Classification Report:\n",
      "              precision    recall  f1-score   support\n",
      "\n",
      "           0       0.92      0.95      0.94       183\n",
      "           1       0.18      0.12      0.14        17\n",
      "\n",
      "    accuracy                           0.88       200\n",
      "   macro avg       0.55      0.53      0.54       200\n",
      "weighted avg       0.86      0.88      0.87       200\n",
      "\n",
      "\n",
      "Training: Support Vector\n",
      "Accuracy: 0.5900\n",
      "Confusion Matrix:\n",
      "[[114  69]\n",
      " [ 13   4]]\n",
      "Classification Report:\n",
      "              precision    recall  f1-score   support\n",
      "\n",
      "           0       0.90      0.62      0.74       183\n",
      "           1       0.05      0.24      0.09        17\n",
      "\n",
      "    accuracy                           0.59       200\n",
      "   macro avg       0.48      0.43      0.41       200\n",
      "weighted avg       0.83      0.59      0.68       200\n",
      "\n",
      "\n",
      "Training: KNN\n",
      "Accuracy: 0.6950\n",
      "Confusion Matrix:\n",
      "[[137  46]\n",
      " [ 15   2]]\n",
      "Classification Report:\n",
      "              precision    recall  f1-score   support\n",
      "\n",
      "           0       0.90      0.75      0.82       183\n",
      "           1       0.04      0.12      0.06        17\n",
      "\n",
      "    accuracy                           0.69       200\n",
      "   macro avg       0.47      0.43      0.44       200\n",
      "weighted avg       0.83      0.69      0.75       200\n",
      "\n"
     ]
    },
    {
     "name": "stderr",
     "output_type": "stream",
     "text": [
      "c:\\Users\\sonal\\Desktop\\TATA INNOVENT\\env\\lib\\site-packages\\sklearn\\utils\\validation.py:2749: UserWarning: X does not have valid feature names, but SVC was fitted with feature names\n",
      "  message = \"The feature names should match those that were passed during fit.\\n\"\n",
      "c:\\Users\\sonal\\Desktop\\TATA INNOVENT\\env\\lib\\site-packages\\sklearn\\utils\\validation.py:2749: UserWarning: X does not have valid feature names, but KNeighborsClassifier was fitted with feature names\n",
      "  message = \"The feature names should match those that were passed during fit.\\n\"\n"
     ]
    }
   ],
   "source": [
    "# Train and evaluate each model\n",
    "for name, model in models.items():\n",
    "    print(f\"\\nTraining: {name}\")\n",
    "    \n",
    "    # Train the model\n",
    "    model.fit(X_train_balanced, y_train_balanced)\n",
    "    \n",
    "    # Predict on test set\n",
    "    y_pred = model.predict(X_test_scaled)\n",
    "    \n",
    "    # Evaluation\n",
    "    acc = accuracy_score(y_test, y_pred)\n",
    "    cm = confusion_matrix(y_test, y_pred)\n",
    "    report = classification_report(y_test, y_pred, output_dict=True)\n",
    "    \n",
    "    result[name] = {\n",
    "        'accuracy': acc,\n",
    "        'confusion_matrix': cm,\n",
    "        'classification_report': report\n",
    "    }\n",
    "    \n",
    "    print(f\"Accuracy: {acc:.4f}\")\n",
    "    print(\"Confusion Matrix:\")\n",
    "    print(cm)\n",
    "    print(\"Classification Report:\")\n",
    "    print(classification_report(y_test, y_pred))\n",
    "\n",
    "\n"
   ]
  },
  {
   "cell_type": "code",
   "execution_count": 57,
   "id": "c7845b06",
   "metadata": {},
   "outputs": [],
   "source": [
    "summary_df = pd.DataFrame({\n",
    "    model: {\n",
    "        'Accuracy': result[model]['accuracy'],\n",
    "        'Precision (0)': result[model]['classification_report']['0']['precision'],\n",
    "        'Recall (0)': result[model]['classification_report']['0']['recall'],\n",
    "        'Precision (1)': result[model]['classification_report']['1']['precision'],\n",
    "        'Recall (1)': result[model]['classification_report']['1']['recall']\n",
    "    }\n",
    "    for model in result\n",
    "}).T\n",
    "\n"
   ]
  },
  {
   "cell_type": "code",
   "execution_count": 58,
   "id": "45e9453e",
   "metadata": {},
   "outputs": [
    {
     "name": "stdout",
     "output_type": "stream",
     "text": [
      "\n",
      "\n",
      "Model Comparison Summary:\n",
      "                     Accuracy  Precision (0)  Recall (0)  Precision (1)  \\\n",
      "Random Forest           0.890       0.917098    0.967213       0.142857   \n",
      "XG Boost                0.880       0.920635    0.950820       0.181818   \n",
      "KNN                     0.695       0.901316    0.748634       0.041667   \n",
      "Support Vector          0.590       0.897638    0.622951       0.054795   \n",
      "Logistic Regression     0.450       0.876289    0.464481       0.048544   \n",
      "\n",
      "                     Recall (1)  \n",
      "Random Forest          0.058824  \n",
      "XG Boost               0.117647  \n",
      "KNN                    0.117647  \n",
      "Support Vector         0.235294  \n",
      "Logistic Regression    0.294118  \n"
     ]
    }
   ],
   "source": [
    "summary_df = summary_df.sort_values(by='Accuracy', ascending=False)\n",
    "\n",
    "print(\"\\n\\nModel Comparison Summary:\")\n",
    "print(summary_df)\n"
   ]
  },
  {
   "cell_type": "code",
   "execution_count": 66,
   "id": "e07b1c97",
   "metadata": {},
   "outputs": [
    {
     "name": "stdout",
     "output_type": "stream",
     "text": [
      "Model trained successfully.\n",
      "Model Parameters:\n",
      "{'objective': 'binary:logistic', 'base_score': None, 'booster': None, 'callbacks': None, 'colsample_bylevel': None, 'colsample_bynode': None, 'colsample_bytree': None, 'device': None, 'early_stopping_rounds': None, 'enable_categorical': False, 'eval_metric': 'logloss', 'feature_types': None, 'feature_weights': None, 'gamma': None, 'grow_policy': None, 'importance_type': None, 'interaction_constraints': None, 'learning_rate': None, 'max_bin': None, 'max_cat_threshold': None, 'max_cat_to_onehot': None, 'max_delta_step': None, 'max_depth': None, 'max_leaves': None, 'min_child_weight': None, 'missing': nan, 'monotone_constraints': None, 'multi_strategy': None, 'n_estimators': None, 'n_jobs': None, 'num_parallel_tree': None, 'random_state': 42, 'reg_alpha': None, 'reg_lambda': None, 'sampling_method': None, 'scale_pos_weight': None, 'subsample': None, 'tree_method': None, 'validate_parameters': None, 'verbosity': None, 'use_label_encoder': False}\n"
     ]
    }
   ],
   "source": [
    "best_model = XGBClassifier(use_label_encoder=False, eval_metric='logloss', random_state=42)\n",
    "best_model.fit(X_train_balanced, y_train_balanced)\n",
    "print(\"Model trained successfully.\")\n",
    "print(\"Model Parameters:\")\n",
    "print(best_model.get_params())\n"
   ]
  },
  {
   "cell_type": "code",
   "execution_count": 67,
   "id": "a3225626",
   "metadata": {},
   "outputs": [
    {
     "name": "stdout",
     "output_type": "stream",
     "text": [
      "Sample prediction: [1 1 0 0 1]\n"
     ]
    }
   ],
   "source": [
    "sample_prediction = best_model.predict(X_train_balanced[:5])\n",
    "print(\"Sample prediction:\", sample_prediction)\n"
   ]
  },
  {
   "cell_type": "code",
   "execution_count": 68,
   "id": "6282a9c3",
   "metadata": {},
   "outputs": [
    {
     "name": "stdout",
     "output_type": "stream",
     "text": [
      "Accuracy: 0.695\n",
      "Precision (macro): 0.4714912280701754\n",
      "Recall (macro): 0.43314046930247513\n",
      "F1 Score (macro): 0.4397244546498278\n"
     ]
    }
   ],
   "source": [
    "from sklearn.metrics import accuracy_score, precision_score, recall_score, f1_score\n",
    "\n",
    "print(\"Accuracy:\", accuracy_score(y_test, y_pred))\n",
    "print(\"Precision (macro):\", precision_score(y_test, y_pred, average='macro'))\n",
    "print(\"Recall (macro):\", recall_score(y_test, y_pred, average='macro'))\n",
    "print(\"F1 Score (macro):\", f1_score(y_test, y_pred, average='macro'))\n"
   ]
  },
  {
   "cell_type": "code",
   "execution_count": 69,
   "id": "638d2857",
   "metadata": {},
   "outputs": [
    {
     "data": {
      "image/png": "[encoded data removed]",
      "text/plain": [
       "<Figure size 640x480 with 1 Axes>"
      ]
     },
     "metadata": {},
     "output_type": "display_data"
    }
   ],
   "source": [
    "from xgboost import plot_importance\n",
    "\n",
    "plot_importance(best_model, max_num_features=10)\n",
    "plt.show()\n"
   ]
  }
 ],
 "metadata": {
  "kernelspec": {
   "display_name": "env",
   "language": "python",
   "name": "python3"
  },
  "language_info": {
   "codemirror_mode": {
    "name": "ipython",
    "version": 3
   },
   "file_extension": ".py",
   "mimetype": "text/x-python",
   "name": "python",
   "nbconvert_exporter": "python",
   "pygments_lexer": "ipython3",
   "version": "3.10.3"
  }
 },
 "nbformat": 4,
 "nbformat_minor": 5
}
